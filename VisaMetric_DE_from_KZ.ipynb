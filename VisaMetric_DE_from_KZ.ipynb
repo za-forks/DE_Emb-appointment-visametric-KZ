{
 "cells": [
  {
   "cell_type": "code",
   "execution_count": 1,
   "id": "2878c042",
   "metadata": {},
   "outputs": [],
   "source": [
    "import time\n",
    "from beepy import beep\n",
    "\n",
    "from selenium import webdriver\n",
    "from selenium.webdriver.chrome.service import Service\n",
    "from webdriver_manager.chrome import ChromeDriverManager\n",
    "from selenium.webdriver.common.keys import Keys\n",
    "from selenium.webdriver.common.by import By"
   ]
  },
  {
   "cell_type": "code",
   "execution_count": 12,
   "id": "4a12f9cb",
   "metadata": {},
   "outputs": [],
   "source": [
    "PATH = r\"C:\\Program Files (x86)\\chromedriver.exe\"\n",
    "#service = Service(executable_path=ChromeDriverManager().install())\n",
    "service = Service(executable_path=PATH)\n",
    "driver = webdriver.Chrome(service=service)\n",
    "\n"
   ]
  },
  {
   "cell_type": "code",
   "execution_count": 13,
   "id": "79ef8e2b",
   "metadata": {},
   "outputs": [],
   "source": [
    "#LOGIN_PAGE = \"https://www.visametric.com/Kazakhstan/Germany/de\"\n",
    "LOGIN_PAGE = \"https://appointment.visametric.com/\"\n",
    "driver.get(LOGIN_PAGE)"
   ]
  },
  {
   "cell_type": "raw",
   "id": "baadf47b",
   "metadata": {},
   "source": [
    "link = driver.find_element(By.LINK_TEXT, \"Language\").click()\n",
    "print(link)"
   ]
  },
  {
   "cell_type": "code",
   "execution_count": 14,
   "id": "4c620c86",
   "metadata": {},
   "outputs": [],
   "source": [
    "driver.find_element(By.XPATH, \"//select[@values='[object Object],[object Object],[object Object],[object Object],[object Object],[object Object],[object Object]']//option[@value='KZ']\").click()\n",
    "time.sleep(1)\n",
    "driver.find_element(By.XPATH, \"//select[@values='[object Object],[object Object]']//option[@value='DE']\").click()\n",
    "time.sleep(1)\n",
    "driver.find_element(By.XPATH, \"//button[@class='btn btn-lg btn-primary pull-right']\").click()\n",
    "#driver.find_element(By.LINK_TEXT, \"Continue\").click()\n",
    "time.sleep(5)\n",
    "driver.find_element(By.XPATH, \"//select[@values='[object Object],[object Object],[object Object]']//option[@value='2']\").click()\n",
    "time.sleep(1)\n",
    "driver.find_element(By.XPATH, \"//select[@values='[object Object],[object Object],[object Object]']//option[@value='normal']\").click()\n",
    "time.sleep(1)\n",
    "driver.find_element(By.XPATH, \"//select[@values='[object Object],[object Object],[object Object],[object Object],[object Object],[object Object],[object Object],[object Object],[object Object],[object Object],[object Object],[object Object],[object Object],[object Object],[object Object],[object Object],[object Object],[object Object],[object Object],[object Object],[object Object],[object Object],[object Object],[object Object],[object Object],[object Object],[object Object],[object Object],[object Object],[object Object],[object Object],[object Object],[object Object],[object Object],[object Object],[object Object],[object Object],[object Object],[object Object],[object Object],[object Object],[object Object],[object Object],[object Object],[object Object],[object Object],[object Object],[object Object],[object Object],[object Object],[object Object],[object Object],[object Object],[object Object],[object Object],[object Object],[object Object],[object Object],[object Object],[object Object],[object Object],[object Object],[object Object],[object Object],[object Object],[object Object],[object Object],[object Object],[object Object],[object Object],[object Object],[object Object],[object Object],[object Object],[object Object],[object Object],[object Object],[object Object],[object Object],[object Object],[object Object],[object Object],[object Object],[object Object],[object Object],[object Object],[object Object],[object Object],[object Object],[object Object],[object Object],[object Object],[object Object],[object Object],[object Object],[object Object],[object Object],[object Object],[object Object],[object Object],[object Object],[object Object],[object Object],[object Object],[object Object],[object Object],[object Object],[object Object],[object Object],[object Object],[object Object],[object Object],[object Object],[object Object],[object Object],[object Object],[object Object],[object Object],[object Object],[object Object],[object Object],[object Object],[object Object],[object Object],[object Object]']//option[@value='04']\").click()\n",
    "time.sleep(1)\n",
    "driver.find_element(By.XPATH, \"//select[@values='[object Object],[object Object],[object Object],[object Object]']//option[@value='2']\").click()\n",
    "time.sleep(1)\n",
    "driver.find_element(By.XPATH, \"//select[@values='[object Object],[object Object],[object Object]']//option[@value='individual']\").click()\n",
    "time.sleep(1)"
   ]
  },
  {
   "cell_type": "code",
   "execution_count": 15,
   "id": "a256b167",
   "metadata": {},
   "outputs": [],
   "source": [
    "earliest_date = driver.find_element(By.XPATH, \"//li[@class='list-group-item']\").text"
   ]
  },
  {
   "cell_type": "code",
   "execution_count": 16,
   "id": "cb1bf1a3",
   "metadata": {},
   "outputs": [
    {
     "data": {
      "text/plain": [
       "'2022-09-16'"
      ]
     },
     "execution_count": 16,
     "metadata": {},
     "output_type": "execute_result"
    }
   ],
   "source": [
    "earliest_date"
   ]
  },
  {
   "cell_type": "code",
   "execution_count": 21,
   "id": "5d523436",
   "metadata": {},
   "outputs": [],
   "source": [
    "def check_earliest_date(earliest_date):\n",
    "    if earliest_date < '2022-08-25':\n",
    "        return True\n",
    "    else:\n",
    "        return False"
   ]
  },
  {
   "cell_type": "code",
   "execution_count": 23,
   "id": "e539a8ff",
   "metadata": {},
   "outputs": [],
   "source": [
    "if check_earliest_date(earliest_date):\n",
    "    print(\"earlier date found!\")\n",
    "    no_earlier_dates = False"
   ]
  },
  {
   "cell_type": "code",
   "execution_count": 24,
   "id": "13b91c42",
   "metadata": {},
   "outputs": [],
   "source": [
    "def reserve_appointment():\n",
    "    PATH = r\"C:\\Program Files (x86)\\chromedriver.exe\"\n",
    "    # service = Service(executable_path=ChromeDriverManager().install())\n",
    "    service = Service(executable_path=PATH)\n",
    "    driver = webdriver.Chrome(service=service)\n",
    "    no_earlier_dates = True\n",
    "    \n",
    "    while no_earlier_dates:\n",
    "        print(\"=\" * 50)\n",
    "        LOGIN_PAGE = \"https://appointment.visametric.com/\"\n",
    "        driver.get(LOGIN_PAGE)\n",
    "        time.sleep(5)\n",
    "        print(f\"Open {LOGIN_PAGE} in chrome\")\n",
    "        driver.find_element(By.XPATH, \"//select[@values='[object Object],[object Object],[object Object],[object Object],[object Object],[object Object],[object Object]']//option[@value='KZ']\").click()\n",
    "        time.sleep(1)\n",
    "        driver.find_element(By.XPATH, \"//select[@values='[object Object],[object Object]']//option[@value='DE']\").click()\n",
    "        time.sleep(1)\n",
    "        driver.find_element(By.XPATH, \"//button[@class='btn btn-lg btn-primary pull-right']\").click()\n",
    "        #driver.find_element(By.LINK_TEXT, \"Continue\").click()\n",
    "        time.sleep(5)\n",
    "        driver.find_element(By.XPATH, \"//select[@values='[object Object],[object Object],[object Object]']//option[@value='2']\").click()\n",
    "        time.sleep(1)\n",
    "        driver.find_element(By.XPATH, \"//select[@values='[object Object],[object Object],[object Object]']//option[@value='normal']\").click()\n",
    "        time.sleep(1)\n",
    "        driver.find_element(By.XPATH, \"//select[@values='[object Object],[object Object],[object Object],[object Object],[object Object],[object Object],[object Object],[object Object],[object Object],[object Object],[object Object],[object Object],[object Object],[object Object],[object Object],[object Object],[object Object],[object Object],[object Object],[object Object],[object Object],[object Object],[object Object],[object Object],[object Object],[object Object],[object Object],[object Object],[object Object],[object Object],[object Object],[object Object],[object Object],[object Object],[object Object],[object Object],[object Object],[object Object],[object Object],[object Object],[object Object],[object Object],[object Object],[object Object],[object Object],[object Object],[object Object],[object Object],[object Object],[object Object],[object Object],[object Object],[object Object],[object Object],[object Object],[object Object],[object Object],[object Object],[object Object],[object Object],[object Object],[object Object],[object Object],[object Object],[object Object],[object Object],[object Object],[object Object],[object Object],[object Object],[object Object],[object Object],[object Object],[object Object],[object Object],[object Object],[object Object],[object Object],[object Object],[object Object],[object Object],[object Object],[object Object],[object Object],[object Object],[object Object],[object Object],[object Object],[object Object],[object Object],[object Object],[object Object],[object Object],[object Object],[object Object],[object Object],[object Object],[object Object],[object Object],[object Object],[object Object],[object Object],[object Object],[object Object],[object Object],[object Object],[object Object],[object Object],[object Object],[object Object],[object Object],[object Object],[object Object],[object Object],[object Object],[object Object],[object Object],[object Object],[object Object],[object Object],[object Object],[object Object],[object Object],[object Object],[object Object]']//option[@value='04']\").click()\n",
    "        time.sleep(1)\n",
    "        driver.find_element(By.XPATH, \"//select[@values='[object Object],[object Object],[object Object],[object Object]']//option[@value='2']\").click()\n",
    "        time.sleep(1)\n",
    "        driver.find_element(By.XPATH, \"//select[@values='[object Object],[object Object],[object Object]']//option[@value='individual']\").click()\n",
    "        time.sleep(1)\n",
    "        earliest_date = driver.find_element(By.XPATH, \"//li[@class='list-group-item']\").text\n",
    "        if check_earliest_date(earliest_date):\n",
    "            print(\"earlier date found!\")\n",
    "            no_earlier_dates = False\n",
    "    \n",
    "    return check_earliest_date(earliest_date)"
   ]
  },
  {
   "cell_type": "code",
   "execution_count": null,
   "id": "177ffdfd",
   "metadata": {},
   "outputs": [
    {
     "name": "stdout",
     "output_type": "stream",
     "text": [
      "==================================================\n",
      "Open https://appointment.visametric.com/ in chrome\n",
      "==================================================\n",
      "Open https://appointment.visametric.com/ in chrome\n",
      "==================================================\n"
     ]
    }
   ],
   "source": [
    "reserve_appointment()\n",
    "for i in range(1000):\n",
    "    beep(sound = \"siren\")\n",
    "    time.sleep(0.1)"
   ]
  },
  {
   "cell_type": "code",
   "execution_count": null,
   "id": "56031d65",
   "metadata": {},
   "outputs": [],
   "source": []
  }
 ],
 "metadata": {
  "kernelspec": {
   "display_name": "Python 3 (ipykernel)",
   "language": "python",
   "name": "python3"
  },
  "language_info": {
   "codemirror_mode": {
    "name": "ipython",
    "version": 3
   },
   "file_extension": ".py",
   "mimetype": "text/x-python",
   "name": "python",
   "nbconvert_exporter": "python",
   "pygments_lexer": "ipython3",
   "version": "3.8.5"
  }
 },
 "nbformat": 4,
 "nbformat_minor": 5
}
