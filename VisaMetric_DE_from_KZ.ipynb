{
 "cells": [
  {
   "cell_type": "code",
   "execution_count": 1,
   "id": "048b9556",
   "metadata": {},
   "outputs": [],
   "source": [
    "import time\n",
    "from beepy import beep\n",
    "\n",
    "from selenium import webdriver\n",
    "from selenium.webdriver.chrome.service import Service\n",
    "from webdriver_manager.chrome import ChromeDriverManager\n",
    "from selenium.webdriver.common.keys import Keys\n",
    "from selenium.webdriver.common.by import By\n",
    "from selenium.common.exceptions import NoSuchElementException"
   ]
  },
  {
   "cell_type": "code",
   "execution_count": 2,
   "id": "4a12f9cb",
   "metadata": {},
   "outputs": [],
   "source": [
    "PATH = r\"C:\\Program Files (x86)\\chromedriver.exe\"\n",
    "#service = Service(executable_path=ChromeDriverManager().install())\n",
    "service = Service(executable_path=PATH)\n",
    "driver = webdriver.Chrome(service=service)\n",
    "\n"
   ]
  },
  {
   "cell_type": "code",
   "execution_count": 3,
   "id": "2e427c45",
   "metadata": {},
   "outputs": [],
   "source": [
    "#LOGIN_PAGE = \"https://www.visametric.com/Kazakhstan/Germany/de\"\n",
    "LOGIN_PAGE = \"https://appointment.visametric.com/\"\n",
    "driver.get(LOGIN_PAGE)"
   ]
  },
  {
   "cell_type": "raw",
   "id": "c7a86bba",
   "metadata": {},
   "source": [
    "link = driver.find_element(By.LINK_TEXT, \"Language\").click()\n",
    "print(link)"
   ]
  },
  {
   "cell_type": "code",
   "execution_count": null,
   "id": "7ceeeef8",
   "metadata": {},
   "outputs": [],
   "source": [
    "driver.find_element(By.XPATH, \"//select[@values='[object Object],[object Object],[object Object],[object Object],[object Object],[object Object],[object Object]']//option[@value='KZ']\").click()\n",
    "time.sleep(1)\n",
    "driver.find_element(By.XPATH, \"//select[@values='[object Object],[object Object]']//option[@value='DE']\").click()\n",
    "time.sleep(1)\n",
    "driver.find_element(By.XPATH, \"//button[@class='btn btn-lg btn-primary pull-right']\").click()\n",
    "#driver.find_element(By.LINK_TEXT, \"Continue\").click()\n",
    "time.sleep(5)\n",
    "driver.find_element(By.XPATH, \"//select[@values='[object Object],[object Object],[object Object]']//option[@value='2']\").click()\n",
    "time.sleep(1)\n",
    "driver.find_element(By.XPATH, \"//select[@values='[object Object],[object Object],[object Object]']//option[@value='normal']\").click()\n",
    "time.sleep(1)\n",
    "driver.find_element(By.XPATH, \"//select[@values='[object Object],[object Object],[object Object],[object Object],[object Object],[object Object],[object Object],[object Object],[object Object],[object Object],[object Object],[object Object],[object Object],[object Object],[object Object],[object Object],[object Object],[object Object],[object Object],[object Object],[object Object],[object Object],[object Object],[object Object],[object Object],[object Object],[object Object],[object Object],[object Object],[object Object],[object Object],[object Object],[object Object],[object Object],[object Object],[object Object],[object Object],[object Object],[object Object],[object Object],[object Object],[object Object],[object Object],[object Object],[object Object],[object Object],[object Object],[object Object],[object Object],[object Object],[object Object],[object Object],[object Object],[object Object],[object Object],[object Object],[object Object],[object Object],[object Object],[object Object],[object Object],[object Object],[object Object],[object Object],[object Object],[object Object],[object Object],[object Object],[object Object],[object Object],[object Object],[object Object],[object Object],[object Object],[object Object],[object Object],[object Object],[object Object],[object Object],[object Object],[object Object],[object Object],[object Object],[object Object],[object Object],[object Object],[object Object],[object Object],[object Object],[object Object],[object Object],[object Object],[object Object],[object Object],[object Object],[object Object],[object Object],[object Object],[object Object],[object Object],[object Object],[object Object],[object Object],[object Object],[object Object],[object Object],[object Object],[object Object],[object Object],[object Object],[object Object],[object Object],[object Object],[object Object],[object Object],[object Object],[object Object],[object Object],[object Object],[object Object],[object Object],[object Object],[object Object],[object Object],[object Object]']//option[@value='04']\").click()\n",
    "time.sleep(1)\n",
    "driver.find_element(By.XPATH, \"//select[@values='[object Object],[object Object],[object Object],[object Object]']//option[@value='2']\").click()\n",
    "time.sleep(1)\n",
    "driver.find_element(By.XPATH, \"//select[@values='[object Object],[object Object],[object Object]']//option[@value='individual']\").click()\n",
    "time.sleep(1)"
   ]
  },
  {
   "cell_type": "code",
   "execution_count": null,
   "id": "25044b0b",
   "metadata": {},
   "outputs": [],
   "source": [
    "try:\n",
    "    earliest_date = driver.find_element(By.XPATH, \"//li[@class='list-group-item']\").text\n",
    "except NoSuchElementException as exc:\n",
    "    print(exc)\n",
    "    earliest_date = '2022-09-16'"
   ]
  },
  {
   "cell_type": "code",
   "execution_count": null,
   "id": "e90089c1",
   "metadata": {},
   "outputs": [],
   "source": [
    "earliest_date"
   ]
  },
  {
   "cell_type": "code",
   "execution_count": 5,
   "id": "ba691ea6",
   "metadata": {},
   "outputs": [],
   "source": [
    "def check_earliest_date(earliest_date):\n",
    "    if earliest_date < '2022-08-25':\n",
    "        return True\n",
    "    else:\n",
    "        return False"
   ]
  },
  {
   "cell_type": "raw",
   "id": "98056b9c",
   "metadata": {},
   "source": [
    "if check_earliest_date(earliest_date):\n",
    "    print(\"earlier date found!\")\n",
    "    no_earlier_dates = False"
   ]
  },
  {
   "cell_type": "code",
   "execution_count": 18,
   "id": "ba27573d",
   "metadata": {},
   "outputs": [],
   "source": [
    "def reserve_appointment():\n",
    "    PATH = r\"C:\\Program Files (x86)\\chromedriver.exe\"\n",
    "    # service = Service(executable_path=ChromeDriverManager().install())\n",
    "    service = Service(executable_path=PATH)\n",
    "    driver = webdriver.Chrome(service=service)\n",
    "    no_earlier_dates = True\n",
    "    current_best_date = '2022-09-16'\n",
    "    i = 1\n",
    "    \n",
    "    while no_earlier_dates:\n",
    "        print(\"=\" * 50)\n",
    "        LOGIN_PAGE = \"https://appointment.visametric.com/\"\n",
    "        driver.get(LOGIN_PAGE)\n",
    "        time.sleep(5)\n",
    "        print(f\"Open {LOGIN_PAGE} in chrome\")\n",
    "        driver.find_element(By.XPATH, \"//select[@values='[object Object],[object Object],[object Object],[object Object],[object Object],[object Object],[object Object]']//option[@value='KZ']\").click()\n",
    "        time.sleep(1)\n",
    "        driver.find_element(By.XPATH, \"//select[@values='[object Object],[object Object]']//option[@value='DE']\").click()\n",
    "        time.sleep(1)\n",
    "        driver.find_element(By.XPATH, \"//button[@class='btn btn-lg btn-primary pull-right']\").click()\n",
    "        #driver.find_element(By.LINK_TEXT, \"Continue\").click()\n",
    "        time.sleep(5)\n",
    "        driver.find_element(By.XPATH, \"//select[@values='[object Object],[object Object],[object Object]']//option[@value='2']\").click()\n",
    "        time.sleep(1)\n",
    "        driver.find_element(By.XPATH, \"//select[@values='[object Object],[object Object],[object Object]']//option[@value='normal']\").click()\n",
    "        time.sleep(1)\n",
    "        driver.find_element(By.XPATH, \"//select[@values='[object Object],[object Object],[object Object],[object Object],[object Object],[object Object],[object Object],[object Object],[object Object],[object Object],[object Object],[object Object],[object Object],[object Object],[object Object],[object Object],[object Object],[object Object],[object Object],[object Object],[object Object],[object Object],[object Object],[object Object],[object Object],[object Object],[object Object],[object Object],[object Object],[object Object],[object Object],[object Object],[object Object],[object Object],[object Object],[object Object],[object Object],[object Object],[object Object],[object Object],[object Object],[object Object],[object Object],[object Object],[object Object],[object Object],[object Object],[object Object],[object Object],[object Object],[object Object],[object Object],[object Object],[object Object],[object Object],[object Object],[object Object],[object Object],[object Object],[object Object],[object Object],[object Object],[object Object],[object Object],[object Object],[object Object],[object Object],[object Object],[object Object],[object Object],[object Object],[object Object],[object Object],[object Object],[object Object],[object Object],[object Object],[object Object],[object Object],[object Object],[object Object],[object Object],[object Object],[object Object],[object Object],[object Object],[object Object],[object Object],[object Object],[object Object],[object Object],[object Object],[object Object],[object Object],[object Object],[object Object],[object Object],[object Object],[object Object],[object Object],[object Object],[object Object],[object Object],[object Object],[object Object],[object Object],[object Object],[object Object],[object Object],[object Object],[object Object],[object Object],[object Object],[object Object],[object Object],[object Object],[object Object],[object Object],[object Object],[object Object],[object Object],[object Object],[object Object],[object Object],[object Object]']//option[@value='04']\").click()\n",
    "        time.sleep(1)\n",
    "        while no_earlier_dates:\n",
    "            try:\n",
    "                driver.find_element(By.XPATH, \"//select[@values='[object Object],[object Object],[object Object],[object Object]']//option[@value='2']\").click()\n",
    "                time.sleep(1)\n",
    "                driver.find_element(By.XPATH, \"//select[@values='[object Object],[object Object],[object Object]']//option[@value='individual']\").click()\n",
    "                time.sleep(1)\n",
    "                earliest_date = driver.find_element(By.XPATH, \"//li[@class='list-group-item']\").text\n",
    "            except NoSuchElementException as exc:\n",
    "                print(exc)\n",
    "                earliest_date = current_best_date\n",
    "                \n",
    "            if check_earliest_date(earliest_date):\n",
    "                print(\"NEW APPOINTMENT DATE FOUND: \", earliest_date, \". Previous best date: \", current_best_date)\n",
    "                no_earlier_dates = False\n",
    "            elif earliest_date < current_best_date:\n",
    "                print(\"earlier date found: \", earliest_date, \". Previous best date: \", current_best_date)\n",
    "                current_best_date = earliest_date\n",
    "                driver.find_element(By.XPATH, \"//select[@values='[object Object],[object Object],[object Object],[object Object]']//option[@value='10']\").click()\n",
    "                print(i, end=\" \")\n",
    "                time.sleep(5)\n",
    "            else:\n",
    "                driver.find_element(By.XPATH, \"//select[@values='[object Object],[object Object],[object Object],[object Object]']//option[@value='10']\").click()\n",
    "                print(i, end=\" \")\n",
    "                time.sleep(5)\n",
    "            i += 1\n",
    "    \n",
    "    return check_earliest_date(earliest_date)"
   ]
  },
  {
   "cell_type": "code",
   "execution_count": null,
   "id": "e2682f81",
   "metadata": {},
   "outputs": [
    {
     "name": "stdout",
     "output_type": "stream",
     "text": [
      "==================================================\n",
      "Open https://appointment.visametric.com/ in chrome\n",
      "earlier date found:  2022-09-14 . Previous best date:  2022-09-16\n",
      "1 2 3 4 5 6 7 8 9 10 11 12 13 14 15 16 17 18 19 20 21 22 23 24 25 26 27 28 29 30 31 32 33 34 35 36 37 38 39 40 41 42 43 44 45 "
     ]
    }
   ],
   "source": [
    "reserve_appointment()\n",
    "for i in range(1000):\n",
    "    beep(sound = \"siren\")\n",
    "    time.sleep(0.1)"
   ]
  },
  {
   "cell_type": "code",
   "execution_count": null,
   "id": "56031d65",
   "metadata": {},
   "outputs": [],
   "source": []
  }
 ],
 "metadata": {
  "kernelspec": {
   "display_name": "Python 3 (ipykernel)",
   "language": "python",
   "name": "python3"
  },
  "language_info": {
   "codemirror_mode": {
    "name": "ipython",
    "version": 3
   },
   "file_extension": ".py",
   "mimetype": "text/x-python",
   "name": "python",
   "nbconvert_exporter": "python",
   "pygments_lexer": "ipython3",
   "version": "3.8.5"
  }
 },
 "nbformat": 4,
 "nbformat_minor": 5
}
