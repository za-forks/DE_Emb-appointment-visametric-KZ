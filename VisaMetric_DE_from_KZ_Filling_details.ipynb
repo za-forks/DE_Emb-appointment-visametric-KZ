{
 "cells": [
  {
   "cell_type": "code",
   "execution_count": 1,
   "id": "1703c542",
   "metadata": {},
   "outputs": [],
   "source": [
    "import time\n",
    "from beepy import beep\n",
    "\n",
    "from selenium import webdriver\n",
    "#from selenium.webdriver.firefox.service import Service\n",
    "from selenium.webdriver.chrome.service import Service\n",
    "#from webdriver_manager.firefox import DriverManager\n",
    "from webdriver_manager.chrome import ChromeDriverManager\n",
    "from selenium.webdriver.common.keys import Keys\n",
    "from selenium.webdriver.common.by import By\n",
    "from selenium.common.exceptions import NoSuchElementException\n",
    "from selenium.webdriver.support.ui import WebDriverWait\n",
    "from selenium.webdriver.support import expected_conditions as EC"
   ]
  },
  {
   "cell_type": "code",
   "execution_count": 2,
   "id": "cf0ae961",
   "metadata": {},
   "outputs": [
    {
     "data": {
      "text/plain": [
       "'options = webdriver.FirefoxOptions() \\noptions.add_argument(\"start-maximized\")'"
      ]
     },
     "execution_count": 2,
     "metadata": {},
     "output_type": "execute_result"
    }
   ],
   "source": [
    "options = webdriver.ChromeOptions() \n",
    "options.add_argument(\"start-maximized\")\n",
    "options.add_experimental_option(\"excludeSwitches\", [\"enable-automation\"])\n",
    "options.add_experimental_option('useAutomationExtension', False)\n",
    "\n",
    "\"\"\"options = webdriver.FirefoxOptions() \n",
    "options.add_argument(\"start-maximized\")\"\"\"\n"
   ]
  },
  {
   "cell_type": "code",
   "execution_count": 4,
   "id": "4a12f9cb",
   "metadata": {},
   "outputs": [],
   "source": [
    "PATH = r\"C:\\Program Files (x86)\\chromedriver.exe\"\n",
    "#PATHFF = r\"C:\\Program Files (x86)\\geckodriver.exe\"\n",
    "#service = Service(executable_path=ChromeDriverManager().install())\n",
    "service = Service(executable_path=PATH)\n",
    "#service = Service(executable_path=PATHFF)\n",
    "driver = webdriver.Chrome(service=service, options=options)\n",
    "\n"
   ]
  },
  {
   "cell_type": "code",
   "execution_count": 5,
   "id": "d78a24ed",
   "metadata": {},
   "outputs": [],
   "source": [
    "LOGIN_PAGE = \"https://appointment.visametric.com/\""
   ]
  },
  {
   "cell_type": "code",
   "execution_count": 6,
   "id": "7118ef5f",
   "metadata": {},
   "outputs": [],
   "source": [
    "def check_earliest_date(earliest_date):\n",
    "    if earliest_date < '2022-08-25':\n",
    "        return True\n",
    "    else:\n",
    "        return False"
   ]
  },
  {
   "cell_type": "raw",
   "id": "f351e790",
   "metadata": {},
   "source": [
    "link = driver.find_element(By.LINK_TEXT, \"Language\").click()\n",
    "print(link)"
   ]
  },
  {
   "cell_type": "markdown",
   "id": "8c8411d6",
   "metadata": {},
   "source": [
    "## START"
   ]
  },
  {
   "cell_type": "code",
   "execution_count": 60,
   "id": "e545f1c3",
   "metadata": {},
   "outputs": [
    {
     "name": "stdout",
     "output_type": "stream",
     "text": [
      "earliest_date: 2022-07-27\n"
     ]
    }
   ],
   "source": [
    "driver.get(LOGIN_PAGE)\n",
    "time.sleep(3)\n",
    "driver.find_element(By.XPATH, \"//select[@values='[object Object],[object Object],[object Object],[object Object],[object Object],[object Object],[object Object]']//option[@value='KZ']\").click()\n",
    "time.sleep(.1)\n",
    "driver.find_element(By.XPATH, \"//select[@values='[object Object],[object Object]']//option[@value='DE']\").click()\n",
    "time.sleep(.1)\n",
    "driver.find_element(By.XPATH, \"//button[@class='btn btn-lg btn-primary pull-right']\").click()\n",
    "#driver.find_element(By.LINK_TEXT, \"Continue\").click()\n",
    "time.sleep(.5)\n",
    "driver.find_element(By.XPATH, \"//select[@values='[object Object],[object Object],[object Object]']//option[@value='2']\").click()\n",
    "time.sleep(.1)\n",
    "driver.find_element(By.XPATH, \"//select[@values='[object Object],[object Object],[object Object]']//option[@value='normal']\").click()\n",
    "time.sleep(.1)\n",
    "driver.find_element(By.XPATH, \"//select[@values='[object Object],[object Object],[object Object],[object Object],[object Object],[object Object],[object Object],[object Object],[object Object],[object Object],[object Object],[object Object],[object Object],[object Object],[object Object],[object Object],[object Object],[object Object],[object Object],[object Object],[object Object],[object Object],[object Object],[object Object],[object Object],[object Object],[object Object],[object Object],[object Object],[object Object],[object Object],[object Object],[object Object],[object Object],[object Object],[object Object],[object Object],[object Object],[object Object],[object Object],[object Object],[object Object],[object Object],[object Object],[object Object],[object Object],[object Object],[object Object],[object Object],[object Object],[object Object],[object Object],[object Object],[object Object],[object Object],[object Object],[object Object],[object Object],[object Object],[object Object],[object Object],[object Object],[object Object],[object Object],[object Object],[object Object],[object Object],[object Object],[object Object],[object Object],[object Object],[object Object],[object Object],[object Object],[object Object],[object Object],[object Object],[object Object],[object Object],[object Object],[object Object],[object Object],[object Object],[object Object],[object Object],[object Object],[object Object],[object Object],[object Object],[object Object],[object Object],[object Object],[object Object],[object Object],[object Object],[object Object],[object Object],[object Object],[object Object],[object Object],[object Object],[object Object],[object Object],[object Object],[object Object],[object Object],[object Object],[object Object],[object Object],[object Object],[object Object],[object Object],[object Object],[object Object],[object Object],[object Object],[object Object],[object Object],[object Object],[object Object],[object Object],[object Object],[object Object],[object Object],[object Object]']//option[@value='04']\").click()\n",
    "time.sleep(.4)\n",
    "driver.find_element(By.XPATH, \"//select[@values='[object Object],[object Object],[object Object],[object Object]']//option[@value='2']\").click()\n",
    "time.sleep(.1)\n",
    "driver.find_element(By.XPATH, \"//select[@values='[object Object],[object Object],[object Object]']//option[@value='individual']\").click()\n",
    "time.sleep(.3)\n",
    "try:\n",
    "    earliest_date = driver.find_element(By.XPATH, \"//li[@class='list-group-item']\").text\n",
    "except NoSuchElementException as exc:\n",
    "    print(exc)\n",
    "    earliest_date = '2022-09-16'\n",
    "print(\"earliest_date:\", earliest_date)\n"
   ]
  },
  {
   "cell_type": "code",
   "execution_count": 61,
   "id": "392dce52",
   "metadata": {},
   "outputs": [],
   "source": [
    "first_name = \"\"\n",
    "last_name = \"\"\n",
    "birth_date = ''\n",
    "passport = \"\"\n",
    "passport_end_date = ''\n",
    "email = ''\n",
    "phone = ''\n",
    "gsm = ''"
   ]
  },
  {
   "cell_type": "code",
   "execution_count": 261,
   "id": "a256a256",
   "metadata": {},
   "outputs": [],
   "source": [
    "first_name = \"\"\n",
    "last_name = \"\"\n",
    "birth_date = ''\n",
    "passport = \"\"\n",
    "passport_end_date = ''\n",
    "email = ''\n",
    "phone = ''\n",
    "gsm = ''"
   ]
  },
  {
   "cell_type": "code",
   "execution_count": 62,
   "id": "365482c6",
   "metadata": {},
   "outputs": [
    {
     "data": {
      "text/plain": [
       "'#driver.find_element(By.XPATH, \"//input[@name=\\'data[0][birth_date]\\']\").send_keys(\\'15071947\\')\\n#time.sleep(1)\\n#driver.find_element(By.XPATH, \"//input[@name=\\'data[0][passport_end_date]\\']\").send_keys(\\'15062030\\')\\ntime.sleep(5)\\n#driver.find_element(By.XPATH, \"//input[@name=\\'data[0][birth_date]\\']\").send_keys(\\'15071947\\')\\ndriver.find_element(By.XPATH, \"//input[@data-field=\\'birth_date\\']\").send_keys(Keys.CONTROL + \"a\")\\ndriver.find_element(By.XPATH, \"//input[@data-field=\\'birth_date\\']\").send_keys(\\'15071947\\')\\ndriver.find_element(By.XPATH, \"//input[@data-field=\\'birth_date\\']\").send_keys(Keys.ENTER)\\ntime.sleep(5)\\ndriver.find_element(By.XPATH, \"//input[@data-field=\\'passport_end_date\\']\").send_keys(Keys.CONTROL + \"a\")\\ndriver.find_element(By.XPATH, \"//input[@data-field=\\'passport_end_date\\']\").send_keys(\\'15062030\\')\\ndriver.find_element(By.XPATH, \"//input[@data-field=\\'passport_end_date\\']\").send_keys(Keys.ENTER)'"
      ]
     },
     "execution_count": 62,
     "metadata": {},
     "output_type": "execute_result"
    }
   ],
   "source": [
    "driver.find_element(By.XPATH, \"//button[@class='btn btn-lg btn-primary pull-right']\").click()\n",
    "time.sleep(.5)\n",
    "\n",
    "driver.find_element(By.XPATH, \"//input[@data-field='first_name']\").send_keys(first_name)\n",
    "time.sleep(.1)\n",
    "driver.find_element(By.XPATH, \"//input[@data-field='last_name']\").send_keys(last_name)\n",
    "time.sleep(.1)\n",
    "driver.find_element(By.XPATH, \"//select[@data-field='nationality']//option[@value='116']\").click()\n",
    "#time.sleep(.1)\n",
    "#driver.find_element(By.XPATH, \"//input[@data-field='last_name']\").click()\n",
    "time.sleep(.1)\n",
    "#WebDriverWait(driver, 2).until(EC.element_to_be_clickable((By.XPATH, \"//input[@data-field='birth_date']\"))).send_keys(\"15071947\")\n",
    "#driver.find_element(By.XPATH, \"//input[@data-field='birth_date']\").send_keys('15071947')\n",
    "#time.sleep(1)\n",
    "#driver.find_element(By.XPATH, \"//input[@data-field='birth_date']\").send_keys('15/07/1947')\n",
    "driver.find_element(By.XPATH, \"//input[@data-field='birth_date']\").send_keys(Keys.CONTROL + \"a\")\n",
    "driver.find_element(By.XPATH, \"//input[@data-field='birth_date']\").send_keys(birth_date)\n",
    "driver.find_element(By.XPATH, \"//input[@data-field='birth_date']\").send_keys(Keys.ENTER)\n",
    "time.sleep(.1)\n",
    "driver.find_element(By.XPATH, \"//input[@data-field='passport']\").send_keys(passport)\n",
    "time.sleep(.1)\n",
    "#driver.find_element(By.XPATH, \"//input[@data-field='last_name']\").click()\n",
    "#time.sleep(1)\n",
    "#driver.find_element(By.XPATH, \"//input[@data-field='passport_end_date']\").send_keys('15062030')\n",
    "#WebDriverWait(driver, 2).until(EC.element_to_be_clickable((By.XPATH, \"//input[@data-field='passport_end_date']\"))).send_keys(\"15062030\")\n",
    "driver.find_element(By.XPATH, \"//input[@data-field='passport_end_date']\").send_keys(Keys.CONTROL + \"a\")\n",
    "driver.find_element(By.XPATH, \"//input[@data-field='passport_end_date']\").send_keys(passport_end_date)\n",
    "driver.find_element(By.XPATH, \"//input[@data-field='passport_end_date']\").send_keys(Keys.ENTER)\n",
    "time.sleep(.1)\n",
    "driver.find_element(By.XPATH, \"//input[@data-field='email']\").send_keys(email)\n",
    "time.sleep(.1)\n",
    "driver.find_element(By.XPATH, \"//input[@data-field='phone']\").send_keys(phone)\n",
    "time.sleep(.1)\n",
    "driver.find_element(By.XPATH, \"//input[@data-field='gsm']\").send_keys(gsm)\n",
    "time.sleep(.1)\n",
    "\"\"\"#driver.find_element(By.XPATH, \"//input[@name='data[0][birth_date]']\").send_keys('15071947')\n",
    "#time.sleep(1)\n",
    "#driver.find_element(By.XPATH, \"//input[@name='data[0][passport_end_date]']\").send_keys('15062030')\n",
    "time.sleep(5)\n",
    "#driver.find_element(By.XPATH, \"//input[@name='data[0][birth_date]']\").send_keys('15071947')\n",
    "driver.find_element(By.XPATH, \"//input[@data-field='birth_date']\").send_keys(Keys.CONTROL + \"a\")\n",
    "driver.find_element(By.XPATH, \"//input[@data-field='birth_date']\").send_keys('15071947')\n",
    "driver.find_element(By.XPATH, \"//input[@data-field='birth_date']\").send_keys(Keys.ENTER)\n",
    "time.sleep(5)\n",
    "driver.find_element(By.XPATH, \"//input[@data-field='passport_end_date']\").send_keys(Keys.CONTROL + \"a\")\n",
    "driver.find_element(By.XPATH, \"//input[@data-field='passport_end_date']\").send_keys('15062030')\n",
    "driver.find_element(By.XPATH, \"//input[@data-field='passport_end_date']\").send_keys(Keys.ENTER)\"\"\"\n",
    "##"
   ]
  },
  {
   "cell_type": "raw",
   "id": "734579e8",
   "metadata": {},
   "source": [
    "driver.find_element(By.XPATH, \"//input[@data-index='0' and @data-field='birth_date']).send_keys('15071947')\n"
   ]
  },
  {
   "cell_type": "markdown",
   "id": "438dd1cb",
   "metadata": {},
   "source": [
    "## 2 clicks"
   ]
  },
  {
   "cell_type": "code",
   "execution_count": 30,
   "id": "8a223e01",
   "metadata": {},
   "outputs": [],
   "source": [
    "beep(sound = 3); beep(sound = 10)"
   ]
  },
  {
   "cell_type": "code",
   "execution_count": 64,
   "id": "38512d15",
   "metadata": {},
   "outputs": [],
   "source": [
    "driver.find_element(By.XPATH, \"//button[@class='btn btn-lg btn-primary pull-right']\").click()\n",
    "time.sleep(.1)\n",
    "driver.find_element(By.XPATH, \"//button[@class='btn btn-lg btn-primary pull-right']\").click()"
   ]
  },
  {
   "cell_type": "markdown",
   "id": "a56176f9",
   "metadata": {},
   "source": [
    "## T&C"
   ]
  },
  {
   "cell_type": "code",
   "execution_count": 65,
   "id": "70c232fc",
   "metadata": {},
   "outputs": [],
   "source": [
    "#driver.find_element(By.XPATH, \"//button[@class='btn btn-lg btn-primary pull-right']\").click()\n",
    "#driver.find_element(By.XPATH, \"//button[@class='btn btn-lg btn-primary pull-right']\").click()\n",
    "time.sleep(.2)\n",
    "driver.find_element(By.XPATH, \"//input[@type='checkbox']\").click() #send_keys(Keys.LEFT)\n",
    "###driver.find_element(By.XPATH, \"//div[@class='recaptcha-checkbox-border']\").click() #send_keys(Keys.LEFT)\n",
    "WebDriverWait(driver, 10).until(EC.frame_to_be_available_and_switch_to_it((By.CSS_SELECTOR,\"iframe[name^='a-'][src^='https://www.google.com/recaptcha/api2/anchor?']\")))\n",
    "time.sleep(1.2)\n",
    "WebDriverWait(driver, 10).until(EC.element_to_be_clickable((By.XPATH, \"//span[@id='recaptcha-anchor']\"))).click()"
   ]
  },
  {
   "cell_type": "raw",
   "id": "0a5ea785",
   "metadata": {},
   "source": [
    "btn_continue = driver.find_element(By.XPATH, \"//div[@id='content']//nav[@class='navbar navbar-inverse navbar-static-top']\")\n",
    "btn_continue.click()"
   ]
  },
  {
   "cell_type": "raw",
   "id": "53494945",
   "metadata": {},
   "source": [
    "driver.find_element(By.XPATH, \"//div[@class='container']//button[@class='btn btn-lg btn-primary pull-right']\").click()"
   ]
  },
  {
   "cell_type": "raw",
   "id": "da663778",
   "metadata": {},
   "source": [
    "WebDriverWait(driver, 1).until(EC.element_to_be_clickable((By.XPATH, \"//button[@class='btn btn-lg btn-primary pull-right']\"))).click()\n",
    "\"\"\"driver.find_element(By.XPATH, \"//button[@class='btn btn-lg btn-primary pull-right']\").click()\n",
    "driver.find_element(By.LINK_TEXT, \"Continue\").click()\"\"\"\n"
   ]
  },
  {
   "cell_type": "markdown",
   "id": "88125685",
   "metadata": {},
   "source": [
    "## DATES"
   ]
  },
  {
   "cell_type": "code",
   "execution_count": 66,
   "id": "5d826a4c",
   "metadata": {},
   "outputs": [],
   "source": [
    "for _ in range(2):\n",
    "    try:\n",
    "        date = driver.find_element(By.XPATH, \"//div[@class='form-group']//input[@placeholder='DD/MM/YYYY']\")\n",
    "        label= driver.find_element(By.XPATH, \"//div[@class='form-group']//label[@class='control-label']\").text\n",
    "    except NoSuchElementException:\n",
    "        try:\n",
    "            date = driver.find_element(By.XPATH, \"//div[@class='form-group has-error']//input[@placeholder='DD/MM/YYYY']\")\n",
    "            label= driver.find_element(By.XPATH, \"//div[@class='form-group has-error']//label[@class='control-label']\").text\n",
    "        except NoSuchElementException:\n",
    "            break\n",
    "    if label == 'Travel Starting Date':\n",
    "        date.send_keys(Keys.CONTROL + \"a\")\n",
    "        date.send_keys('16082022')\n",
    "        date.send_keys(Keys.ENTER)\n",
    "    elif label == 'Travel Ending Date':\n",
    "        date.send_keys(Keys.CONTROL + \"a\")\n",
    "        date.send_keys('09092022')\n",
    "        date.send_keys(Keys.ENTER)"
   ]
  },
  {
   "cell_type": "markdown",
   "id": "00857e8e",
   "metadata": {},
   "source": [
    "## END"
   ]
  },
  {
   "cell_type": "markdown",
   "id": "030516cb",
   "metadata": {},
   "source": [
    "## Birthdate & Passport date"
   ]
  },
  {
   "cell_type": "code",
   "execution_count": 165,
   "id": "730591d7",
   "metadata": {},
   "outputs": [],
   "source": [
    "label= driver.find_element(By.XPATH, \"//div[@class='form-group has-error']//label[@class='control-label']\").text"
   ]
  },
  {
   "cell_type": "code",
   "execution_count": 166,
   "id": "f2120888",
   "metadata": {},
   "outputs": [
    {
     "data": {
      "text/plain": [
       "'Travel Starting Date'"
      ]
     },
     "execution_count": 166,
     "metadata": {},
     "output_type": "execute_result"
    }
   ],
   "source": [
    "label"
   ]
  },
  {
   "cell_type": "code",
   "execution_count": 135,
   "id": "f90d3cd5",
   "metadata": {},
   "outputs": [],
   "source": [
    "startdate = driver.find_element(By.XPATH, \"//div[@class='col-sm-6']//input[@placeholder='DD/MM/YYYY']\")"
   ]
  },
  {
   "cell_type": "code",
   "execution_count": 153,
   "id": "c464362f",
   "metadata": {},
   "outputs": [
    {
     "data": {
      "text/plain": [
       "'__/__/____'"
      ]
     },
     "execution_count": 153,
     "metadata": {},
     "output_type": "execute_result"
    }
   ],
   "source": [
    "startdate.get_attribute('value')"
   ]
  },
  {
   "cell_type": "code",
   "execution_count": 145,
   "id": "21516d59",
   "metadata": {},
   "outputs": [],
   "source": [
    "enddate= driver.find_element(By.XPATH, \"//div[@class='form-group']//input[@placeholder='DD/MM/YYYY']\")"
   ]
  },
  {
   "cell_type": "code",
   "execution_count": 147,
   "id": "dd2a65a2",
   "metadata": {},
   "outputs": [
    {
     "data": {
      "text/plain": [
       "'textbox'"
      ]
     },
     "execution_count": 147,
     "metadata": {},
     "output_type": "execute_result"
    }
   ],
   "source": [
    "enddate.aria_role"
   ]
  },
  {
   "cell_type": "code",
   "execution_count": 164,
   "id": "40a50438",
   "metadata": {},
   "outputs": [],
   "source": [
    "enddate.get_attribute('text')"
   ]
  },
  {
   "cell_type": "code",
   "execution_count": null,
   "id": "51ef8ff2",
   "metadata": {},
   "outputs": [],
   "source": [
    "driver.find_element(By.XPATH, \"//label[@class='control-label']//input[@placeholder='DD/MM/YYYY']\").send_keys(Keys.CONTROL + \"a\")\n",
    "driver.find_element(By.XPATH, \"//label[@class='control-label']//input[@placeholder='DD/MM/YYYY']\").send_keys('20092022')\n",
    "driver.find_element(By.XPATH, \"//label[@class='control-label']//input[@placeholder='DD/MM/YYYY']\").send_keys(Keys.ENTER)\n",
    "\n",
    "driver.find_element(By.XPATH, \"//div[@class='form-group']//input[@placeholder='DD/MM/YYYY']\").send_keys(Keys.CONTROL + \"a\")\n",
    "driver.find_element(By.XPATH, \"//div[@class='form-group']//input[@placeholder='DD/MM/YYYY']\").send_keys('20102022')\n",
    "driver.find_element(By.XPATH, \"//div[@class='form-group']//input[@placeholder='DD/MM/YYYY']\").send_keys(Keys.ENTER)"
   ]
  },
  {
   "cell_type": "code",
   "execution_count": 89,
   "id": "e3eb2511",
   "metadata": {},
   "outputs": [],
   "source": [
    "driver.find_element(By.XPATH, \"//div[@class='form-group has-error']//input[@placeholder='DD/MM/YYYY']\").send_keys(Keys.CONTROL + \"a\")\n",
    "driver.find_element(By.XPATH, \"//div[@class='form-group has-error']//input[@placeholder='DD/MM/YYYY']\").send_keys('20092022')\n",
    "driver.find_element(By.XPATH, \"//div[@class='form-group has-error']//input[@placeholder='DD/MM/YYYY']\").send_keys(Keys.ENTER)\n"
   ]
  },
  {
   "cell_type": "code",
   "execution_count": null,
   "id": "b540d999",
   "metadata": {},
   "outputs": [],
   "source": [
    "\n",
    "driver.find_element(By.XPATH, \"//div[@class='form-group has-error']//input[@placeholder='DD/MM/YYYY']\").send_keys(Keys.CONTROL + \"a\")\n",
    "driver.find_element(By.XPATH, \"//div[@class='form-group has-error']//input[@placeholder='DD/MM/YYYY']\").send_keys('20102022')\n",
    "driver.find_element(By.XPATH, \"//div[@class='form-group has-error']//input[@placeholder='DD/MM/YYYY']\").send_keys(Keys.ENTER)"
   ]
  },
  {
   "cell_type": "code",
   "execution_count": null,
   "id": "255ee272",
   "metadata": {},
   "outputs": [],
   "source": [
    "\n",
    "driver.find_element(By.XPATH, \"//div[@class='form-group']//input[@placeholder='DD/MM/YYYY']\").send_keys('20092022')\n",
    "time.sleep(1)\n",
    "driver.find_element(By.XPATH, \"//div[@class='form-group']//input[@placeholder='DD/MM/YYYY']\").send_keys('20102022')\n",
    "#driver.find_element(By.XPATH, \"//input[@placeholder='DD/MM/YYYY']\").send_keys('20102022')\n"
   ]
  },
  {
   "cell_type": "code",
   "execution_count": 66,
   "id": "062094cf",
   "metadata": {},
   "outputs": [],
   "source": [
    "driver.find_element(By.XPATH, \"//div[@class='form-group has-error']//input[@placeholder='DD/MM/YYYY']\").send_keys('20102022')\n"
   ]
  },
  {
   "cell_type": "markdown",
   "id": "81b7be9f",
   "metadata": {},
   "source": [
    "## END\n"
   ]
  },
  {
   "cell_type": "code",
   "execution_count": 26,
   "id": "f0edc176",
   "metadata": {},
   "outputs": [],
   "source": [
    "def reserve_appointment():\n",
    "    PATH = r\"C:\\Program Files (x86)\\chromedriver.exe\"\n",
    "    # service = Service(executable_path=ChromeDriverManager().install())\n",
    "    service = Service(executable_path=PATH)\n",
    "    driver = webdriver.Chrome(service=service)\n",
    "    no_earlier_dates = True\n",
    "    current_best_date = '2022-09-16'\n",
    "    i = 1\n",
    "    \n",
    "    while no_earlier_dates:\n",
    "        #reloads = 0\n",
    "        print(\"=\" * 50)\n",
    "        LOGIN_PAGE = \"https://appointment.visametric.com/\"\n",
    "        driver.get(LOGIN_PAGE)\n",
    "        time.sleep(5)\n",
    "        print(f\"Open {LOGIN_PAGE} in chrome\")\n",
    "        driver.find_element(By.XPATH, \"//select[@values='[object Object],[object Object],[object Object],[object Object],[object Object],[object Object],[object Object]']//option[@value='KZ']\").click()\n",
    "        time.sleep(1)\n",
    "        driver.find_element(By.XPATH, \"//select[@values='[object Object],[object Object]']//option[@value='DE']\").click()\n",
    "        time.sleep(1)\n",
    "        driver.find_element(By.XPATH, \"//button[@class='btn btn-lg btn-primary pull-right']\").click()\n",
    "        #driver.find_element(By.LINK_TEXT, \"Continue\").click()\n",
    "        time.sleep(5)\n",
    "        driver.find_element(By.XPATH, \"//select[@values='[object Object],[object Object],[object Object]']//option[@value='2']\").click()\n",
    "        time.sleep(1)\n",
    "        driver.find_element(By.XPATH, \"//select[@values='[object Object],[object Object],[object Object]']//option[@value='normal']\").click()\n",
    "        time.sleep(1)\n",
    "        driver.find_element(By.XPATH, \"//select[@values='[object Object],[object Object],[object Object],[object Object],[object Object],[object Object],[object Object],[object Object],[object Object],[object Object],[object Object],[object Object],[object Object],[object Object],[object Object],[object Object],[object Object],[object Object],[object Object],[object Object],[object Object],[object Object],[object Object],[object Object],[object Object],[object Object],[object Object],[object Object],[object Object],[object Object],[object Object],[object Object],[object Object],[object Object],[object Object],[object Object],[object Object],[object Object],[object Object],[object Object],[object Object],[object Object],[object Object],[object Object],[object Object],[object Object],[object Object],[object Object],[object Object],[object Object],[object Object],[object Object],[object Object],[object Object],[object Object],[object Object],[object Object],[object Object],[object Object],[object Object],[object Object],[object Object],[object Object],[object Object],[object Object],[object Object],[object Object],[object Object],[object Object],[object Object],[object Object],[object Object],[object Object],[object Object],[object Object],[object Object],[object Object],[object Object],[object Object],[object Object],[object Object],[object Object],[object Object],[object Object],[object Object],[object Object],[object Object],[object Object],[object Object],[object Object],[object Object],[object Object],[object Object],[object Object],[object Object],[object Object],[object Object],[object Object],[object Object],[object Object],[object Object],[object Object],[object Object],[object Object],[object Object],[object Object],[object Object],[object Object],[object Object],[object Object],[object Object],[object Object],[object Object],[object Object],[object Object],[object Object],[object Object],[object Object],[object Object],[object Object],[object Object],[object Object],[object Object],[object Object],[object Object]']//option[@value='04']\").click()\n",
    "        time.sleep(1)\n",
    "        #while no_earlier_dates and reloads < 10:\n",
    "        try:\n",
    "            driver.find_element(By.XPATH, \"//select[@values='[object Object],[object Object],[object Object],[object Object]']//option[@value='2']\").click()\n",
    "            time.sleep(1)\n",
    "            driver.find_element(By.XPATH, \"//select[@values='[object Object],[object Object],[object Object]']//option[@value='individual']\").click()\n",
    "            time.sleep(1)\n",
    "            earliest_date = driver.find_element(By.XPATH, \"//li[@class='list-group-item']\").text\n",
    "        except NoSuchElementException as exc:\n",
    "            print(exc)\n",
    "            earliest_date = current_best_date\n",
    "\n",
    "        if check_earliest_date(earliest_date):\n",
    "            print(\"NEW APPOINTMENT DATE FOUND: \", earliest_date, \". Previous best date: \", current_best_date)\n",
    "            no_earlier_dates = False\n",
    "        elif earliest_date < current_best_date:\n",
    "            print(\"earlier date found: \", earliest_date, \". Previous best date: \", current_best_date)\n",
    "            current_best_date = earliest_date\n",
    "            # driver.find_element(By.XPATH, \"//select[@values='[object Object],[object Object],[object Object],[object Object]']//option[@value='10']\").click()\n",
    "            print(i, end=\" \")\n",
    "            # time.sleep(5)\n",
    "        else:\n",
    "            # driver.find_element(By.XPATH, \"//select[@values='[object Object],[object Object],[object Object],[object Object]']//option[@value='10']\").click()\n",
    "            print(i, end=\" \")\n",
    "            # time.sleep(5)\n",
    "        i += 1\n",
    "        #reloads += 1\n",
    "    \n",
    "    return check_earliest_date(earliest_date)"
   ]
  },
  {
   "cell_type": "code",
   "execution_count": 23,
   "id": "b5374e60",
   "metadata": {},
   "outputs": [
    {
     "name": "stdout",
     "output_type": "stream",
     "text": [
      "==================================================\n",
      "Open https://appointment.visametric.com/ in chrome\n",
      "earlier date found:  2022-09-14 . Previous best date:  2022-09-16\n",
      "1 2 3 4 5 6 7 8 9 10 ==================================================\n",
      "Open https://appointment.visametric.com/ in chrome\n",
      "11 12 13 14 15 16 17 18 19 20 ==================================================\n",
      "Open https://appointment.visametric.com/ in chrome\n",
      "21 22 23 24 25 26 27 28 29 30 ==================================================\n",
      "Open https://appointment.visametric.com/ in chrome\n",
      "31 32 33 34 35 36 37 38 39 40 ==================================================\n",
      "Open https://appointment.visametric.com/ in chrome\n",
      "41 42 43 44 45 46 47 48 49 50 ==================================================\n",
      "Open https://appointment.visametric.com/ in chrome\n",
      "51 52 53 54 55 56 57 58 59 60 ==================================================\n",
      "Open https://appointment.visametric.com/ in chrome\n",
      "61 62 63 64 65 66 67 68 69 70 ==================================================\n",
      "Open https://appointment.visametric.com/ in chrome\n",
      "71 72 73 74 75 76 77 78 79 80 ==================================================\n",
      "Open https://appointment.visametric.com/ in chrome\n",
      "81 82 83 84 85 86 87 88 89 90 ==================================================\n",
      "Open https://appointment.visametric.com/ in chrome\n",
      "91 92 93 94 95 96 97 98 99 100 ==================================================\n",
      "Open https://appointment.visametric.com/ in chrome\n",
      "101 102 103 104 105 106 107 108 109 110 ==================================================\n",
      "Open https://appointment.visametric.com/ in chrome\n",
      "111 112 113 114 115 116 117 118 119 120 ==================================================\n",
      "Open https://appointment.visametric.com/ in chrome\n",
      "121 122 123 124 125 126 127 128 129 130 ==================================================\n",
      "Open https://appointment.visametric.com/ in chrome\n",
      "131 132 133 134 135 136 137 138 139 140 ==================================================\n",
      "Open https://appointment.visametric.com/ in chrome\n",
      "141 142 143 144 145 146 147 148 149 150 ==================================================\n",
      "Open https://appointment.visametric.com/ in chrome\n",
      "151 152 153 154 155 156 157 158 159 160 ==================================================\n",
      "Open https://appointment.visametric.com/ in chrome\n",
      "161 162 163 164 165 166 167 168 169 170 ==================================================\n",
      "Open https://appointment.visametric.com/ in chrome\n",
      "171 172 173 174 175 176 177 178 179 180 ==================================================\n",
      "Open https://appointment.visametric.com/ in chrome\n",
      "181 182 183 184 185 186 187 188 189 190 ==================================================\n",
      "Open https://appointment.visametric.com/ in chrome\n",
      "191 192 193 194 195 196 197 198 199 200 ==================================================\n",
      "Open https://appointment.visametric.com/ in chrome\n",
      "201 202 203 204 205 206 207 208 209 210 ==================================================\n",
      "Open https://appointment.visametric.com/ in chrome\n",
      "211 212 213 214 215 216 217 218 219 220 ==================================================\n",
      "Open https://appointment.visametric.com/ in chrome\n",
      "221 222 223 224 225 226 227 228 229 230 ==================================================\n",
      "Open https://appointment.visametric.com/ in chrome\n",
      "231 232 233 234 235 236 237 238 239 240 ==================================================\n",
      "Open https://appointment.visametric.com/ in chrome\n",
      "241 242 243 244 245 246 247 248 249 250 ==================================================\n",
      "Open https://appointment.visametric.com/ in chrome\n",
      "251 252 253 254 255 256 257 258 259 260 ==================================================\n",
      "Open https://appointment.visametric.com/ in chrome\n",
      "261 262 263 264 265 266 267 268 269 270 ==================================================\n",
      "Open https://appointment.visametric.com/ in chrome\n",
      "271 272 273 274 275 276 277 278 279 280 ==================================================\n",
      "Open https://appointment.visametric.com/ in chrome\n",
      "281 282 283 284 285 286 287 288 289 290 ==================================================\n",
      "Open https://appointment.visametric.com/ in chrome\n",
      "291 292 293 294 295 296 297 298 299 300 ==================================================\n",
      "Open https://appointment.visametric.com/ in chrome\n",
      "301 302 303 304 305 306 307 308 309 310 ==================================================\n",
      "Open https://appointment.visametric.com/ in chrome\n",
      "NEW APPOINTMENT DATE FOUND:  2022-07-22 . Previous best date:  2022-09-14\n"
     ]
    },
    {
     "ename": "KeyboardInterrupt",
     "evalue": "",
     "output_type": "error",
     "traceback": [
      "\u001b[1;31m---------------------------------------------------------------------------\u001b[0m",
      "\u001b[1;31mKeyboardInterrupt\u001b[0m                         Traceback (most recent call last)",
      "\u001b[1;32mC:\\Users\\ZHARAS~1\\AppData\\Local\\Temp/ipykernel_15380/1226327981.py\u001b[0m in \u001b[0;36m<module>\u001b[1;34m\u001b[0m\n\u001b[0;32m      1\u001b[0m \u001b[0mreserve_appointment\u001b[0m\u001b[1;33m(\u001b[0m\u001b[1;33m)\u001b[0m\u001b[1;33m\u001b[0m\u001b[1;33m\u001b[0m\u001b[0m\n\u001b[0;32m      2\u001b[0m \u001b[1;32mfor\u001b[0m \u001b[0mi\u001b[0m \u001b[1;32min\u001b[0m \u001b[0mrange\u001b[0m\u001b[1;33m(\u001b[0m\u001b[1;36m1000\u001b[0m\u001b[1;33m)\u001b[0m\u001b[1;33m:\u001b[0m\u001b[1;33m\u001b[0m\u001b[1;33m\u001b[0m\u001b[0m\n\u001b[1;32m----> 3\u001b[1;33m     \u001b[0mbeep\u001b[0m\u001b[1;33m(\u001b[0m\u001b[0msound\u001b[0m \u001b[1;33m=\u001b[0m \u001b[1;34m\"siren\"\u001b[0m\u001b[1;33m)\u001b[0m\u001b[1;33m\u001b[0m\u001b[1;33m\u001b[0m\u001b[0m\n\u001b[0m\u001b[0;32m      4\u001b[0m     \u001b[0mtime\u001b[0m\u001b[1;33m.\u001b[0m\u001b[0msleep\u001b[0m\u001b[1;33m(\u001b[0m\u001b[1;36m0.1\u001b[0m\u001b[1;33m)\u001b[0m\u001b[1;33m\u001b[0m\u001b[1;33m\u001b[0m\u001b[0m\n",
      "\u001b[1;32m~\\anaconda3\\lib\\site-packages\\beepy\\make_sound.py\u001b[0m in \u001b[0;36mbeep\u001b[1;34m(sound)\u001b[0m\n\u001b[0;32m     39\u001b[0m     \u001b[0mwave_obj\u001b[0m \u001b[1;33m=\u001b[0m \u001b[0msa\u001b[0m\u001b[1;33m.\u001b[0m\u001b[0mWaveObject\u001b[0m\u001b[1;33m.\u001b[0m\u001b[0mfrom_wave_file\u001b[0m\u001b[1;33m(\u001b[0m\u001b[0mWAVE_PATH\u001b[0m\u001b[1;33m)\u001b[0m\u001b[1;33m\u001b[0m\u001b[1;33m\u001b[0m\u001b[0m\n\u001b[0;32m     40\u001b[0m     \u001b[0mplay_obj\u001b[0m \u001b[1;33m=\u001b[0m \u001b[0mwave_obj\u001b[0m\u001b[1;33m.\u001b[0m\u001b[0mplay\u001b[0m\u001b[1;33m(\u001b[0m\u001b[1;33m)\u001b[0m\u001b[1;33m\u001b[0m\u001b[1;33m\u001b[0m\u001b[0m\n\u001b[1;32m---> 41\u001b[1;33m     \u001b[0mplay_obj\u001b[0m\u001b[1;33m.\u001b[0m\u001b[0mwait_done\u001b[0m\u001b[1;33m(\u001b[0m\u001b[1;33m)\u001b[0m\u001b[1;33m\u001b[0m\u001b[1;33m\u001b[0m\u001b[0m\n\u001b[0m",
      "\u001b[1;32m~\\anaconda3\\lib\\site-packages\\simpleaudio\\shiny.py\u001b[0m in \u001b[0;36mwait_done\u001b[1;34m(self)\u001b[0m\n\u001b[0;32m     47\u001b[0m     \u001b[1;32mdef\u001b[0m \u001b[0mwait_done\u001b[0m\u001b[1;33m(\u001b[0m\u001b[0mself\u001b[0m\u001b[1;33m)\u001b[0m\u001b[1;33m:\u001b[0m\u001b[1;33m\u001b[0m\u001b[1;33m\u001b[0m\u001b[0m\n\u001b[0;32m     48\u001b[0m         \u001b[1;32mwhile\u001b[0m \u001b[0mself\u001b[0m\u001b[1;33m.\u001b[0m\u001b[0mis_playing\u001b[0m\u001b[1;33m(\u001b[0m\u001b[1;33m)\u001b[0m\u001b[1;33m:\u001b[0m\u001b[1;33m\u001b[0m\u001b[1;33m\u001b[0m\u001b[0m\n\u001b[1;32m---> 49\u001b[1;33m             \u001b[0msleep\u001b[0m\u001b[1;33m(\u001b[0m\u001b[1;36m0.05\u001b[0m\u001b[1;33m)\u001b[0m\u001b[1;33m\u001b[0m\u001b[1;33m\u001b[0m\u001b[0m\n\u001b[0m\u001b[0;32m     50\u001b[0m \u001b[1;33m\u001b[0m\u001b[0m\n\u001b[0;32m     51\u001b[0m     \u001b[1;32mdef\u001b[0m \u001b[0mis_playing\u001b[0m\u001b[1;33m(\u001b[0m\u001b[0mself\u001b[0m\u001b[1;33m)\u001b[0m\u001b[1;33m:\u001b[0m\u001b[1;33m\u001b[0m\u001b[1;33m\u001b[0m\u001b[0m\n",
      "\u001b[1;31mKeyboardInterrupt\u001b[0m: "
     ]
    }
   ],
   "source": [
    "reserve_appointment()\n",
    "for i in range(1000):\n",
    "    beep(sound = \"siren\")\n",
    "    time.sleep(0.1)"
   ]
  },
  {
   "cell_type": "code",
   "execution_count": null,
   "id": "56031d65",
   "metadata": {},
   "outputs": [
    {
     "name": "stdout",
     "output_type": "stream",
     "text": [
      "==================================================\n",
      "Open https://appointment.visametric.com/ in chrome\n",
      "earlier date found:  2022-09-14 . Previous best date:  2022-09-16\n",
      "1 ==================================================\n",
      "Open https://appointment.visametric.com/ in chrome\n",
      "2 ==================================================\n",
      "Open https://appointment.visametric.com/ in chrome\n",
      "3 ==================================================\n",
      "Open https://appointment.visametric.com/ in chrome\n",
      "4 ==================================================\n",
      "Open https://appointment.visametric.com/ in chrome\n",
      "5 ==================================================\n",
      "Open https://appointment.visametric.com/ in chrome\n",
      "6 ==================================================\n",
      "Open https://appointment.visametric.com/ in chrome\n",
      "7 ==================================================\n",
      "Open https://appointment.visametric.com/ in chrome\n"
     ]
    }
   ],
   "source": [
    "reserve_appointment()\n",
    "for i in range(1000):\n",
    "    beep(sound = \"siren\")\n",
    "    time.sleep(0.1)"
   ]
  },
  {
   "cell_type": "code",
   "execution_count": null,
   "id": "6ff466f7",
   "metadata": {},
   "outputs": [],
   "source": []
  }
 ],
 "metadata": {
  "kernelspec": {
   "display_name": "Python 3 (ipykernel)",
   "language": "python",
   "name": "python3"
  },
  "language_info": {
   "codemirror_mode": {
    "name": "ipython",
    "version": 3
   },
   "file_extension": ".py",
   "mimetype": "text/x-python",
   "name": "python",
   "nbconvert_exporter": "python",
   "pygments_lexer": "ipython3",
   "version": "3.9.12"
  }
 },
 "nbformat": 4,
 "nbformat_minor": 5
}
